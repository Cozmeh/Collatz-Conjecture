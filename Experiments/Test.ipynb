{
 "cells": [
  {
   "cell_type": "code",
   "execution_count": 1,
   "metadata": {},
   "outputs": [
    {
     "ename": "NameError",
     "evalue": "name 'Collatz' is not defined",
     "output_type": "error",
     "traceback": [
      "\u001b[1;31m---------------------------------------------------------------------------\u001b[0m",
      "\u001b[1;31mNameError\u001b[0m                                 Traceback (most recent call last)",
      "Cell \u001b[1;32mIn[1], line 3\u001b[0m\n\u001b[0;32m      1\u001b[0m \u001b[38;5;28;01mimport\u001b[39;00m  \u001b[38;5;21;01mmatplotlib\u001b[39;00m\u001b[38;5;21;01m.\u001b[39;00m\u001b[38;5;21;01mpyplot\u001b[39;00m \u001b[38;5;28;01mas\u001b[39;00m \u001b[38;5;21;01mplt\u001b[39;00m\n\u001b[1;32m----> 3\u001b[0m collatz \u001b[38;5;241m=\u001b[39m \u001b[43mCollatz\u001b[49m()\n\u001b[0;32m      5\u001b[0m fig, (ax1, ax2, ax3) \u001b[38;5;241m=\u001b[39m plt\u001b[38;5;241m.\u001b[39msubplots(\u001b[38;5;241m3\u001b[39m, \u001b[38;5;241m1\u001b[39m, figsize\u001b[38;5;241m=\u001b[39m(\u001b[38;5;241m8\u001b[39m, \u001b[38;5;241m8\u001b[39m))\n\u001b[0;32m      6\u001b[0m \u001b[38;5;28;01mfor\u001b[39;00m num \u001b[38;5;129;01min\u001b[39;00m \u001b[38;5;28mrange\u001b[39m(\u001b[38;5;241m2\u001b[39m,\u001b[38;5;241m1000\u001b[39m):\n",
      "\u001b[1;31mNameError\u001b[0m: name 'Collatz' is not defined"
     ]
    }
   ],
   "source": [
    "import  matplotlib.pyplot as plt\n",
    "import  as collatz\n",
    "collatz = Collatz()\n",
    "\n",
    "fig, (ax1, ax2, ax3) = plt.subplots(3, 1, figsize=(8, 8))\n",
    "for num in range(2,1000):\n",
    "    even = collatz.even_steps_list(num)\n",
    "    odd = collatz.odd_steps_list(num)\n",
    "    steps = collatz.sequence_list(num)\n",
    "\n",
    "    # print(f'Even Steps: {even}')\n",
    "    # print(f'Odd Steps: {odd}')\n",
    "    # print(f'Total Steps: {steps}')\n",
    "    ax1.plot(even, label='Even Steps')\n",
    "    ax2.plot(odd, label='Odd Steps')\n",
    "    ax3.plot(steps, label='Total Steps')\n",
    "    ax1.set_title('Even Steps',pad=0)\n",
    "    ax2.set_title('Odd Steps',pad=0)\n",
    "    ax3.set_title('Total Steps',pad=0)\n",
    "    num += 1\n",
    "\n",
    "plt.show()"
   ]
  }
 ],
 "metadata": {
  "kernelspec": {
   "display_name": "Python 3",
   "language": "python",
   "name": "python3"
  },
  "language_info": {
   "codemirror_mode": {
    "name": "ipython",
    "version": 3
   },
   "file_extension": ".py",
   "mimetype": "text/x-python",
   "name": "python",
   "nbconvert_exporter": "python",
   "pygments_lexer": "ipython3",
   "version": "3.11.2"
  }
 },
 "nbformat": 4,
 "nbformat_minor": 2
}
